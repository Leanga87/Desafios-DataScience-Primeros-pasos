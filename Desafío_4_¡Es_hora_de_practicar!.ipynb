{
  "cells": [
    {
      "cell_type": "markdown",
      "metadata": {
        "id": "XIA0rcPFz_-k"
      },
      "source": [
        "***Vamos practicar el uso de estructuras de repetición como el \"while\" y el \"for\" a partir de algunas actividades. Ahora que estamos avanzando en el contenido, podemos hacer los desafíos más interesantes. ¡Para ello, trabajaremos en proyectos de código!***\n",
        "\n",
        "***Comencemos resolviendo algunos problemas para calentar y prepararnos para los proyectos.***\n",
        "\n",
        "***Entrenando la programación***"
      ]
    },
    {
      "cell_type": "markdown",
      "metadata": {
        "id": "p_pzyuFh8tH9"
      },
      "source": [
        "1 - **Escribe un programa que solicite dos números enteros e imprima todos los números enteros entre ellos.**"
      ]
    },
    {
      "cell_type": "code",
      "execution_count": null,
      "metadata": {
        "colab": {
          "base_uri": "https://localhost:8080/"
        },
        "id": "2LacFeXJzyEZ",
        "outputId": "9cb716b4-74b5-4231-f1f1-4651e2ce8437"
      },
      "outputs": [
        {
          "name": "stdout",
          "output_type": "stream",
          "text": [
            "ingrese un numero entero: 5\n",
            "ingrese un numero entero: 10\n",
            "6\n",
            "7\n",
            "8\n",
            "9\n"
          ]
        }
      ],
      "source": [
        "n_entero_1 = int(input('ingrese un numero entero: '))\n",
        "n_entero_2 = int(input('ingrese un numero entero: '))\n",
        "if n_entero_1 < n_entero_2:\n",
        "  i = n_entero_1 + 1\n",
        "for i in range(n_entero_1 + 1, n_entero_2):\n",
        "  print(i)\n",
        "else:\n",
        "  i = n_entero_2 + 1\n",
        "for i in range(n_entero_2 + 1, n_entero_1):\n",
        "  print(i)"
      ]
    },
    {
      "cell_type": "code",
      "execution_count": null,
      "metadata": {
        "colab": {
          "base_uri": "https://localhost:8080/"
        },
        "id": "BK5wZ54cELof",
        "outputId": "5fa77127-7723-4fb8-ea6c-e63fc332a60a"
      },
      "outputs": [
        {
          "name": "stdout",
          "output_type": "stream",
          "text": [
            "ingrese un numero entero: 5\n",
            "ingrese un  numero entero: 10\n",
            "6\n",
            "7\n",
            "8\n",
            "9\n"
          ]
        }
      ],
      "source": [
        "numero_e_1 = int(input('ingrese un numero entero: '))\n",
        "numero_e_2 = int(input('ingrese un  numero entero: '))\n",
        "if numero_e_1 < numero_e_2:\n",
        "  menor = numero_e_1\n",
        "  mayor = numero_e_2\n",
        "  contador = menor + 1\n",
        "else:\n",
        "  menor = numero_e_2\n",
        "  mayor = numero_e_1\n",
        "  contador = menor + 1\n",
        "while contador < mayor:\n",
        "  print(contador)\n",
        "  contador += 1"
      ]
    },
    {
      "cell_type": "markdown",
      "metadata": {
        "id": "_bo1TKCGSbBe"
      },
      "source": [
        "2 - **Escribe un programa para calcular cuántos días tomará que la colonia de una bacteria A supere o iguale a la colonia de una bacteria B, basado en tasas de crecimiento del 3% y 1.5%, respectivamente. Supón que la colonia A comienza con 4 elementos y B con 10.**"
      ]
    },
    {
      "cell_type": "code",
      "execution_count": null,
      "metadata": {
        "colab": {
          "base_uri": "https://localhost:8080/"
        },
        "id": "9_zDUk14Sg82",
        "outputId": "0ff52e44-3f84-4d6d-f1f7-51905f014eb1"
      },
      "outputs": [
        {
          "name": "stdout",
          "output_type": "stream",
          "text": [
            "Dias necesarios: 63\n"
          ]
        }
      ],
      "source": [
        "colonia_A = 4\n",
        "colonia_B = 10\n",
        "dias = 0\n",
        "while colonia_A <= colonia_B:\n",
        "  colonia_A *= 1.03\n",
        "  colonia_B *= 1.015\n",
        "  dias = dias + 1\n",
        "print('Dias necesarios:', dias)"
      ]
    },
    {
      "cell_type": "markdown",
      "metadata": {
        "id": "CF24fIC-gcYh"
      },
      "source": [
        "3 - ***Para procesar una cantidad de 15 datos de evaluaciones de usuarios de un servicio de la empresa, necesitamos verificar si las calificaciones son válidas. Por lo tanto, escribe un programa que recibirá calificaciones del 0 al 5 y verificará si son valores válidos. Si se ingresa una calificación superior a 5 o inferior a 0, se repetirá hasta que el usuario ingrese un valor válido.***"
      ]
    },
    {
      "cell_type": "code",
      "execution_count": 26,
      "metadata": {
        "colab": {
          "base_uri": "https://localhost:8080/"
        },
        "id": "H2c_NYSXg18e",
        "outputId": "04249216-fdfe-47f2-8c4a-ea98a6e4573e"
      },
      "outputs": [
        {
          "output_type": "stream",
          "name": "stdout",
          "text": [
            "Ingrese la calificacion: 2.3.3\n",
            "Entrada no valida, por favor ingrese un numero del 0 al 5\n",
            "Ingrese la calificacion: cinco\n",
            "Entrada no valida, por favor ingrese un numero del 0 al 5\n",
            "Ingrese la calificacion: 43\n",
            "calificacion inválida, intente nuevamente\n",
            "Ingrese la calificacion: 3\n",
            "calificaciones validas registradas 1\n",
            "Ingrese la calificacion: 4\n",
            "calificaciones validas registradas 2\n",
            "Ingrese la calificacion: 4.2\n",
            "calificaciones validas registradas 3\n",
            "Ingrese la calificacion: 3.3\n",
            "calificaciones validas registradas 4\n",
            "Ingrese la calificacion: 2,5\n",
            "calificaciones validas registradas 5\n",
            "Ingrese la calificacion: ,\n",
            "Entrada no valida, por favor ingrese un numero del 0 al 5\n",
            "Ingrese la calificacion: 5\n",
            "calificaciones validas registradas 6\n",
            "Ingrese la calificacion: 1,1\n",
            "calificaciones validas registradas 7\n",
            "Ingrese la calificacion: 2,1\n",
            "calificaciones validas registradas 8\n",
            "Ingrese la calificacion: 2.3\n",
            "calificaciones validas registradas 9\n",
            "Ingrese la calificacion: 2.5\n",
            "calificaciones validas registradas 10\n",
            "Ingrese la calificacion: \n",
            "Entrada no valida, por favor ingrese un numero del 0 al 5\n",
            "Ingrese la calificacion: 2.3\n",
            "calificaciones validas registradas 11\n",
            "Ingrese la calificacion: 2,5\n",
            "calificaciones validas registradas 12\n",
            "Ingrese la calificacion: 3.5\n",
            "calificaciones validas registradas 13\n",
            "Ingrese la calificacion: 4.6\n",
            "calificaciones validas registradas 14\n",
            "Ingrese la calificacion: 1,07\n",
            "calificaciones validas registradas 15\n",
            "se registraron: 15 validás\n"
          ]
        }
      ],
      "source": [
        "evaluaciones_de_usuarios  = 0\n",
        "while evaluaciones_de_usuarios < 15:\n",
        "    while True:\n",
        "        calificaciones = (input('Ingrese la calificacion: ')).replace(',','.')\n",
        "        try:\n",
        "            calificaciones = float(calificaciones)\n",
        "            if 0 <= calificaciones <= 5:\n",
        "              evaluaciones_de_usuarios += 1\n",
        "              print('calificaciones validas registradas', evaluaciones_de_usuarios)\n",
        "              break\n",
        "            else:\n",
        "              print('calificacion inválida, intente nuevamente')\n",
        "        except ValueError:\n",
        "              print('Entrada no valida, por favor ingrese un numero del 0 al 5')\n",
        "print(f'se registraron: {evaluaciones_de_usuarios} validás')\n",
        "# Agregué el while True y el try-except para que el programa no se rompa por errores humanos.\n",
        "# Aunque no se pedía en la consigna, me pareció buena idea dejarlo de esta forma: a prueba de fallos humanos."
      ]
    },
    {
      "cell_type": "markdown",
      "source": [
        "4 - **Desarrolla un programa que lea un conjunto indefinido de temperaturas en grados Celsius y calcule su promedio. La lectura debe detenerse al ingresar el valor -273°C.**"
      ],
      "metadata": {
        "id": "LStBMnwzthfm"
      }
    },
    {
      "cell_type": "code",
      "source": [
        "cantidad_de_temperaturas = 0\n",
        "celcius = 0\n",
        "while True:\n",
        "    Temperaturas = (input('Ingrese la temperatura en grados celcius:' )).replace(',','.')\n",
        "    try:\n",
        "      Temperaturas = float(Temperaturas)\n",
        "      if Temperaturas == - 273:\n",
        "        break\n",
        "      else:\n",
        "        cantidad_de_temperaturas += 1\n",
        "        celcius += Temperaturas\n",
        "    except ValueError:\n",
        "        print('Entrada no valida, por favor ingrese temperatura en grados celcius:')\n",
        "if cantidad_de_temperaturas > 0:\n",
        "  promedio = celcius / cantidad_de_temperaturas\n",
        "  print(f'El promedio de temperaturas es: {promedio}')\n",
        "else:\n",
        "  print('No se ingresaron temperaturas validas')"
      ],
      "metadata": {
        "colab": {
          "base_uri": "https://localhost:8080/"
        },
        "id": "6He-Km_PtntI",
        "outputId": "9a13075a-587b-4875-8b8f-a3255150e864"
      },
      "execution_count": 52,
      "outputs": [
        {
          "output_type": "stream",
          "name": "stdout",
          "text": [
            "Ingrese la temperatura en grados celcius:235\n",
            "Ingrese la temperatura en grados celcius:123\n",
            "Ingrese la temperatura en grados celcius:-125\n",
            "Ingrese la temperatura en grados celcius:-125\n",
            "Ingrese la temperatura en grados celcius:-273\n",
            "El promedio de temperaturas es: 27.0\n"
          ]
        }
      ]
    },
    {
      "cell_type": "markdown",
      "source": [
        "5 - **Escribe un programa que calcule el factorial de un número entero proporcionado por el usuario. Recuerda que el factorial de un número entero es el producto de ese número por todos sus antecesores hasta llegar al número 1. Por ejemplo, el factorial de 5 es 5 x 4 x 3 x 2 x 1 = 120.**"
      ],
      "metadata": {
        "id": "muO0udmd7HaV"
      }
    },
    {
      "cell_type": "code",
      "source": [
        "numero_entero = int(input('ingrese un numero entero: '))\n",
        "factorial = 1\n",
        "for i in range(1,numero_entero + 1):\n",
        "  factorial *= i\n",
        "print(f'El factorial de {numero_entero} es {factorial}')"
      ],
      "metadata": {
        "colab": {
          "base_uri": "https://localhost:8080/"
        },
        "id": "tNuwkKnA7L8t",
        "outputId": "37c07d9e-6836-43ff-c5e1-bfb887af6d04"
      },
      "execution_count": 65,
      "outputs": [
        {
          "output_type": "stream",
          "name": "stdout",
          "text": [
            "ingrese un numero entero: 5\n",
            "El factorial de 5 es 120\n"
          ]
        }
      ]
    },
    {
      "cell_type": "markdown",
      "source": [
        "**Momento de los proyectos**\n",
        "\n",
        "6 - ***Escribe un programa que genere la tabla de multiplicar de un número entero del 1 al 10, según la elección del usuario. Como ejemplo, para el número 2, la tabla de multiplicar debe mostrarse en el siguiente formato:**"
      ],
      "metadata": {
        "id": "gJuKd-5HIVFA"
      }
    },
    {
      "cell_type": "code",
      "source": [
        "Tabla de multiplicar del 2:\n",
        "2 x 1 = 2\n",
        "2 x 2 = 4\n",
        "[...]\n",
        "2 x 10 = 20"
      ],
      "metadata": {
        "colab": {
          "base_uri": "https://localhost:8080/",
          "height": 106
        },
        "id": "8Sppv6RfIb9v",
        "outputId": "5c674b1f-2c6d-47a6-b452-d7c24a6a24d7"
      },
      "execution_count": 78,
      "outputs": [
        {
          "output_type": "error",
          "ename": "SyntaxError",
          "evalue": "invalid syntax (<ipython-input-78-7f5b720ead49>, line 1)",
          "traceback": [
            "\u001b[0;36m  File \u001b[0;32m\"<ipython-input-78-7f5b720ead49>\"\u001b[0;36m, line \u001b[0;32m1\u001b[0m\n\u001b[0;31m    Tabla de multiplicar del 2:\u001b[0m\n\u001b[0m          ^\u001b[0m\n\u001b[0;31mSyntaxError\u001b[0m\u001b[0;31m:\u001b[0m invalid syntax\n"
          ]
        }
      ]
    },
    {
      "cell_type": "code",
      "source": [
        "N_entero = int(input('Ingrese un numero entero del 1 al 10: '))\n",
        "if N_entero < 1 or N_entero > 10:\n",
        "  print('El numero entero no esta en el rango permitido, ingrese un numero entero del 1 al 10')\n",
        "else:\n",
        "  print(f'Tabla de multiplicar del : {N_entero}')\n",
        "  for i in range(1,11):\n",
        "    multiplicacion = N_entero * i\n",
        "    print(f'{N_entero} x {i} = {multiplicacion}')"
      ],
      "metadata": {
        "colab": {
          "base_uri": "https://localhost:8080/"
        },
        "id": "DbIDRUqSIp7N",
        "outputId": "831192c5-6079-42e4-e1b7-43c01823ad0b"
      },
      "execution_count": 89,
      "outputs": [
        {
          "output_type": "stream",
          "name": "stdout",
          "text": [
            "Ingrese un numero entero del 1 al 10: 5\n",
            "Tabla de multiplicar del : 5\n",
            "5 x 1 = 5\n",
            "5 x 2 = 10\n",
            "5 x 3 = 15\n",
            "5 x 4 = 20\n",
            "5 x 5 = 25\n",
            "5 x 6 = 30\n",
            "5 x 7 = 35\n",
            "5 x 8 = 40\n",
            "5 x 9 = 45\n",
            "5 x 10 = 50\n"
          ]
        }
      ]
    },
    {
      "cell_type": "markdown",
      "source": [
        "7 - **Los números primos tienen diversas aplicaciones en Ciencia de Datos, como en criptografía y seguridad. Un número primo es aquel que es divisible solo por sí mismo y por 1. Por lo tanto, crea un programa que solicite un número entero y determine si es un número primo o no.**"
      ],
      "metadata": {
        "id": "nGosb3S0RGm7"
      }
    },
    {
      "cell_type": "code",
      "source": [
        "num_entero = int(input('Digite un  numero entero: '))\n",
        "if num_entero <= 1:\n",
        "    print(f'{num_entero} no es primo')\n",
        "else:\n",
        "    es_primo = True\n",
        "    for i in range(2, num_entero):\n",
        "        if num_entero % i == 0:\n",
        "          es_primo = False\n",
        "          break\n",
        "    if es_primo:\n",
        "        print(f'{num_entero} es primo')\n",
        "    else:\n",
        "        print(f'{num_entero} no es primo')"
      ],
      "metadata": {
        "colab": {
          "base_uri": "https://localhost:8080/"
        },
        "id": "WaK-uHLORalC",
        "outputId": "64c8b654-8c72-4cff-d713-f1deda45fa6f"
      },
      "execution_count": 144,
      "outputs": [
        {
          "output_type": "stream",
          "name": "stdout",
          "text": [
            "Digite un  numero entero: 12\n",
            "12 no es primo\n"
          ]
        }
      ]
    },
    {
      "cell_type": "markdown",
      "source": [
        "8 - **Vamos a comprender la distribución de edades de los pensionistas de una empresa de seguros. Escribe un programa que lea las edades de una cantidad no informada de clientes y muestre la distribución en los intervalos [0-25], [26-50], [51-75] y [76-100]. La entrada de datos se detendrá al ingresar un número negativo.**"
      ],
      "metadata": {
        "id": "sJTCrslDhhKl"
      }
    },
    {
      "cell_type": "code",
      "source": [
        "intervalo_1 = 0\n",
        "intervalo_2 = 0\n",
        "intervalo_3 = 0\n",
        "intervalo_4 = 0\n",
        "while True:\n",
        "  edades_pensionados = int(input('Ingrese la edad del cliente: '))\n",
        "  if edades_pensionados < 0:\n",
        "    break\n",
        "  if 0 <= edades_pensionados <= 25:\n",
        "      intervalo_1 += 1\n",
        "  elif 26 <= edades_pensionados <= 50:\n",
        "      intervalo_2 += 1\n",
        "  elif 51 <= edades_pensionados <= 75:\n",
        "      intervalo_3 += 1\n",
        "  elif 76 <= edades_pensionados <= 100:\n",
        "      intervalo_4 += 1\n",
        "print('Distribucion de edades:')\n",
        "print(f'[0-25]: {intervalo_1}')\n",
        "print(f'[26-50]: {intervalo_2}')\n",
        "print(f'[51-75]: {intervalo_3}')\n",
        "print(f'[76-100]: {intervalo_4}')"
      ],
      "metadata": {
        "colab": {
          "base_uri": "https://localhost:8080/"
        },
        "id": "z7sS5boUhkis",
        "outputId": "c41ef2f0-1dcc-4cf0-cf73-dd5765035138"
      },
      "execution_count": 173,
      "outputs": [
        {
          "output_type": "stream",
          "name": "stdout",
          "text": [
            "Ingrese la edad del cliente: 45\n",
            "Ingrese la edad del cliente: 99\n",
            "Ingrese la edad del cliente: 23\n",
            "Ingrese la edad del cliente: 12\n",
            "Ingrese la edad del cliente: 45\n",
            "Ingrese la edad del cliente: 78\n",
            "Ingrese la edad del cliente: 98\n",
            "Ingrese la edad del cliente: 65\n",
            "Ingrese la edad del cliente: 32\n",
            "Ingrese la edad del cliente: 25\n",
            "Ingrese la edad del cliente: 58\n",
            "Ingrese la edad del cliente: 54\n",
            "Ingrese la edad del cliente: 1\n",
            "Ingrese la edad del cliente: 0\n",
            "Ingrese la edad del cliente: 100\n",
            "Ingrese la edad del cliente: -5\n",
            "Distribucion de edades:\n",
            "[0-25]: 5\n",
            "[26-50]: 3\n",
            "[51-75]: 3\n",
            "[76-100]: 4\n"
          ]
        }
      ]
    },
    {
      "cell_type": "markdown",
      "source": [
        "9 - **En una elección para la gerencia de una empresa con 20 empleados, hay cuatro candidatos. Escribe un programa que calcule al ganador de la elección. La votación se realizó de la siguiente manera:**"
      ],
      "metadata": {
        "id": "KTuIpF5G-WsB"
      }
    },
    {
      "cell_type": "markdown",
      "source": [
        "***Cada empleado votó por uno de los cuatro candidatos (representados por los números 1, 2, 3 y 4).***\n",
        "\n",
        "***También se contaron los votos nulos (representados por el número 5) y los votos en blanco (representados por el número 6).***\n",
        "\n",
        "***Al final de la votación, el programa debe mostrar el número total de votos para cada candidato, los votos nulos y los votos en blanco. Además, debe calcular y mostrar el porcentaje de votos nulos con respecto al total de votos y el porcentaje de votos en blanco con respecto al total de votos.***"
      ],
      "metadata": {
        "id": "jsY-jyX1-lCy"
      }
    },
    {
      "cell_type": "code",
      "source": [
        "candidato_1 = 0\n",
        "candidato_2 = 0\n",
        "candidato_3 = 0\n",
        "candidato_4 = 0\n",
        "nulos = 0\n",
        "en_blanco = 0\n",
        "for i in range(20):\n",
        "  voto_empleado = input('ingrese su voto (1 a 6): ')\n",
        "  if voto_empleado.strip() == ' ':\n",
        "    print('Voto vacio invalido, ingrese un valor del 1 al 6')\n",
        "    continue\n",
        "  elif not voto_empleado.isdigit():\n",
        "    print('voto invalido, debe ingresar un numero')\n",
        "    continue\n",
        "  else:\n",
        "      voto_empleado = int(voto_empleado)\n",
        "      if voto_empleado < 1 or voto_empleado > 7:\n",
        "        print('Voto invalido, debe ingresar un numero del 1 al 6')\n",
        "        continue\n",
        "\n",
        "  if voto_empleado == 1:\n",
        "      candidato_1 += 1\n",
        "  elif voto_empleado == 2:\n",
        "    candidato_2 += 1\n",
        "  elif voto_empleado == 3:\n",
        "   candidato_3 += 1\n",
        "  elif voto_empleado == 4:\n",
        "   candidato_4 += 1\n",
        "  elif voto_empleado == 5:\n",
        "   nulos += 1\n",
        "  elif voto_empleado == 6:\n",
        "   en_blanco += 1\n",
        "  else:\n",
        "    print('voto invalido, por favor ingrese un numero del 1 al 6')\n",
        "total_votos = candidato_1 + candidato_2 + candidato_3 + candidato_4 + nulos + en_blanco\n",
        "print('Resultado de la eleccion:')\n",
        "print(f'votos en total: {total_votos}')\n",
        "print(f'Candidato 1: {candidato_1}')\n",
        "print(f'Candidato 2: {candidato_2}')\n",
        "print(f'Candidato 3: {candidato_3}')\n",
        "print(f'Candidato 4: {candidato_4}')\n",
        "print(f'Votos nulos: {nulos}')\n",
        "print(f'Votos en blanco: {en_blanco}')\n",
        "print(f'Porcentaje de votos nulos: {nulos / total_votos * 100:.2f} %')\n",
        "print(f'Porcentaje de votos en blanco: {en_blanco / total_votos * 100:.2f} %')"
      ],
      "metadata": {
        "colab": {
          "base_uri": "https://localhost:8080/"
        },
        "id": "Z3_ynFtv-bP0",
        "outputId": "e1cc4ee9-e2b5-4025-91f3-8afdb1b341d5"
      },
      "execution_count": 19,
      "outputs": [
        {
          "output_type": "stream",
          "name": "stdout",
          "text": [
            "ingrese su voto (1 a 6): 1\n",
            "ingrese su voto (1 a 6): 2\n",
            "ingrese su voto (1 a 6): 3\n",
            "ingrese su voto (1 a 6): 4\n",
            "ingrese su voto (1 a 6): 5\n",
            "ingrese su voto (1 a 6): 6\n",
            "ingrese su voto (1 a 6): 1\n",
            "ingrese su voto (1 a 6): 1\n",
            "ingrese su voto (1 a 6): 1\n",
            "ingrese su voto (1 a 6): 1\n",
            "ingrese su voto (1 a 6): 2\n",
            "ingrese su voto (1 a 6): 2\n",
            "ingrese su voto (1 a 6): 5\n",
            "ingrese su voto (1 a 6): 5\n",
            "ingrese su voto (1 a 6): 6\n",
            "ingrese su voto (1 a 6): 6\n",
            "ingrese su voto (1 a 6): 5\n",
            "ingrese su voto (1 a 6): 6\n",
            "ingrese su voto (1 a 6): 2\n",
            "ingrese su voto (1 a 6): 3\n",
            "Resultado de la eleccion:\n",
            "votos en total: 20\n",
            "Candidato 1: 5\n",
            "Candidato 2: 4\n",
            "Candidato 3: 2\n",
            "Candidato 4: 1\n",
            "Votos nulos: 4\n",
            "Votos en blanco: 4\n",
            "Porcentaje de votos nulos: 20.00 %\n",
            "Porcentaje de votos en blanco: 20.00 %\n"
          ]
        }
      ]
    }
  ],
  "metadata": {
    "colab": {
      "provenance": []
    },
    "kernelspec": {
      "display_name": "Python 3",
      "name": "python3"
    },
    "language_info": {
      "name": "python"
    }
  },
  "nbformat": 4,
  "nbformat_minor": 0
}